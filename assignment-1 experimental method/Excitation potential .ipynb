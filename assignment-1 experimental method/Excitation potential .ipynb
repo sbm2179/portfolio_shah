{
 "cells": [
  {
   "cell_type": "code",
   "execution_count": 2,
   "metadata": {
    "collapsed": true
   },
   "outputs": [],
   "source": [
    "import pandas as pd\n",
    "import numpy as np\n",
    "import matplotlib.pyplot as plt\n",
    "import math as m\n",
    "%matplotlib inline"
   ]
  },
  {
   "cell_type": "code",
   "execution_count": 3,
   "metadata": {
    "collapsed": false,
    "scrolled": true
   },
   "outputs": [
    {
     "name": "stdout",
     "output_type": "stream",
     "text": [
      "[   10.      10.99    12.07    13.26    14.56    16.      17.58    19.31\n",
      "    21.21    23.3     25.6     28.12    30.89    33.93    37.28    40.95\n",
      "    44.98    49.42    54.29    59.64    65.51    71.97    79.06    86.85\n",
      "    95.41   104.8    115.1    126.5    138.9    152.6    167.7    184.2\n",
      "   202.4    222.3    244.2    268.3    294.7    323.8    355.6    390.7\n",
      "   429.2    471.5    518.     569.     625.1    686.7    754.3    828.6\n",
      "   910.3   1000.  ]\n",
      "[ 216.2    203.8    192.     180.9    170.4    160.4    150.8    141.8\n",
      "  133.2    125.1    117.4    110.2    103.3     96.81    90.66    84.88\n",
      "   79.46    74.32    69.5     64.97    60.72    56.73    52.98    49.47\n",
      "   46.18    43.1     40.21    37.52    35.      32.65    30.46    28.42\n",
      "   26.52    24.75    23.1     21.58    20.16    18.84    17.62    16.49\n",
      "   15.44    14.48    13.58    12.76    12.      11.29    10.65    10.05\n",
      "    9.508    9.008]\n",
      "[ 21.62    20.38    19.2     18.09    17.04    16.04    15.08    14.18\n",
      "  13.32    12.51    11.74    11.02    10.33     9.681    9.066    8.488\n",
      "   7.946    7.432    6.95     6.497    6.072    5.673    5.298    4.947\n",
      "   4.618    4.31     4.021    3.752    3.5      3.265    3.046    2.842\n",
      "   2.652    2.475    2.31     2.158    2.016    1.884    1.762    1.649\n",
      "   1.544    1.448    1.358    1.276    1.2      1.129    1.065    1.005\n",
      "   0.9508   0.9008]\n"
     ]
    }
   ],
   "source": [
    "xe=np.loadtxt(\"stopping_powers_xe.txt\")\n",
    "x_xe=xe[0:50,0]\n",
    "y_xe=xe[0:50,1]\n",
    "z_xe=xe[0:50,2]\n",
    "print(x_xe)\n",
    "print(y_xe)\n",
    "print(z_xe)"
   ]
  },
  {
   "cell_type": "code",
   "execution_count": 4,
   "metadata": {
    "collapsed": false
   },
   "outputs": [
    {
     "name": "stdout",
     "output_type": "stream",
     "text": [
      "[ 215.0194524   203.73905321  192.82234264  182.19566381  171.97737279\n",
      "  162.05040474  152.53095005  143.44326136  134.76075148  126.47155032\n",
      "  118.57228401  111.09108191  103.99400581   97.28245128   90.91983294\n",
      "   84.93158867   79.28828112   73.95974508   68.95676484   64.25638908\n",
      "   59.84969057   55.70984386   51.83486017   48.20655313   44.81162265\n",
      "   41.64254206   38.68584579   35.90568244   33.33767194   30.92899433\n",
      "   28.67817301   26.59372837   24.646001     22.84277319   21.16299408\n",
      "   19.59956935   18.15170175   16.8032649    15.55872915   14.39916831\n",
      "   13.32648942   12.33306402   11.41329564   10.56434003    9.77924098\n",
      "    9.05547974    8.38967651    7.77758952    7.21649631    6.70536863]\n"
     ]
    }
   ],
   "source": [
    "y_xe_e=np.array((941.68/x_xe)*(np.log((5.48e-4*x_xe)*(3727.3/(3727.3-(2*x_xe))))-(5.37e-4*x_xe)+7.49))\n",
    "print(y_xe_e)"
   ]
  },
  {
   "cell_type": "code",
   "execution_count": null,
   "metadata": {
    "collapsed": false,
    "scrolled": true
   },
   "outputs": [],
   "source": []
  },
  {
   "cell_type": "code",
   "execution_count": null,
   "metadata": {
    "collapsed": false,
    "scrolled": true
   },
   "outputs": [],
   "source": []
  },
  {
   "cell_type": "code",
   "execution_count": null,
   "metadata": {
    "collapsed": false,
    "scrolled": false
   },
   "outputs": [],
   "source": []
  },
  {
   "cell_type": "code",
   "execution_count": null,
   "metadata": {
    "collapsed": false
   },
   "outputs": [],
   "source": []
  },
  {
   "cell_type": "code",
   "execution_count": null,
   "metadata": {
    "collapsed": false
   },
   "outputs": [],
   "source": []
  },
  {
   "cell_type": "code",
   "execution_count": null,
   "metadata": {
    "collapsed": true
   },
   "outputs": [],
   "source": []
  }
 ],
 "metadata": {
  "kernelspec": {
   "display_name": "Python 2",
   "language": "python",
   "name": "python2"
  },
  "language_info": {
   "codemirror_mode": {
    "name": "ipython",
    "version": 2
   },
   "file_extension": ".py",
   "mimetype": "text/x-python",
   "name": "python",
   "nbconvert_exporter": "python",
   "pygments_lexer": "ipython2",
   "version": "2.7.13"
  }
 },
 "nbformat": 4,
 "nbformat_minor": 2
}
