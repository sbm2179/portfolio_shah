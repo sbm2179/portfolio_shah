{
 "cells": [
  {
   "cell_type": "code",
   "execution_count": 1,
   "metadata": {
    "collapsed": true
   },
   "outputs": [],
   "source": [
    "import pandas as pd\n",
    "import numpy as np\n",
    "import matplotlib.pyplot as plt"
   ]
  },
  {
   "cell_type": "code",
   "execution_count": 2,
   "metadata": {
    "collapsed": true
   },
   "outputs": [],
   "source": [
    "%matplotlib inline"
   ]
  },
  {
   "cell_type": "code",
   "execution_count": 3,
   "metadata": {
    "collapsed": false
   },
   "outputs": [],
   "source": [
    "#Loding the file \"stopping_powers_xe\"\n",
    "xe=np.loadtxt(\"stopping_powers_xe.txt\")"
   ]
  },
  {
   "cell_type": "code",
   "execution_count": 4,
   "metadata": {
    "collapsed": false
   },
   "outputs": [
    {
     "name": "stdout",
     "output_type": "stream",
     "text": [
      "50\n",
      "[   10.      10.99    12.07    13.26    14.56    16.      17.58    19.31\n",
      "    21.21    23.3     25.6     28.12    30.89    33.93    37.28    40.95\n",
      "    44.98    49.42    54.29    59.64    65.51    71.97    79.06    86.85\n",
      "    95.41   104.8    115.1    126.5    138.9    152.6    167.7    184.2\n",
      "   202.4    222.3    244.2    268.3    294.7    323.8    355.6    390.7\n",
      "   429.2    471.5    518.     569.     625.1    686.7    754.3    828.6\n",
      "   910.3   1000.  ]\n"
     ]
    }
   ],
   "source": [
    "#Seperating Energy values from the loaded file\n",
    "x_xe=xe[0:50,0]\n",
    "print(len(x_xe))\n",
    "print(x_xe)"
   ]
  },
  {
   "cell_type": "code",
   "execution_count": 5,
   "metadata": {
    "collapsed": false
   },
   "outputs": [
    {
     "name": "stdout",
     "output_type": "stream",
     "text": [
      "[ 216.2    203.8    192.     180.9    170.4    160.4    150.8    141.8\n",
      "  133.2    125.1    117.4    110.2    103.3     96.81    90.66    84.88\n",
      "   79.46    74.32    69.5     64.97    60.72    56.73    52.98    49.47\n",
      "   46.18    43.1     40.21    37.52    35.      32.65    30.46    28.42\n",
      "   26.52    24.75    23.1     21.58    20.16    18.84    17.62    16.49\n",
      "   15.44    14.48    13.58    12.76    12.      11.29    10.65    10.05\n",
      "    9.508    9.008]\n"
     ]
    }
   ],
   "source": [
    "#Seperating Stopping powers from the loaded file\n",
    "y_xe=xe[:,1]\n",
    "print(y_xe)"
   ]
  },
  {
   "cell_type": "code",
   "execution_count": 6,
   "metadata": {
    "collapsed": false
   },
   "outputs": [
    {
     "name": "stdout",
     "output_type": "stream",
     "text": [
      "[ 21.62    20.38    19.2     18.09    17.04    16.04    15.08    14.18\n",
      "  13.32    12.51    11.74    11.02    10.33     9.681    9.066    8.488\n",
      "   7.946    7.432    6.95     6.497    6.072    5.673    5.298    4.947\n",
      "   4.618    4.31     4.021    3.752    3.5      3.265    3.046    2.842\n",
      "   2.652    2.475    2.31     2.158    2.016    1.884    1.762    1.649\n",
      "   1.544    1.448    1.358    1.276    1.2      1.129    1.065    1.005\n",
      "   0.9508   0.9008]\n"
     ]
    }
   ],
   "source": [
    "#Seperating Uncertainty values for loaded file\n",
    "z_xe=xe[0:50,2]\n",
    "print(z_xe)"
   ]
  },
  {
   "cell_type": "code",
   "execution_count": 28,
   "metadata": {
    "collapsed": false,
    "scrolled": true
   },
   "outputs": [
    {
     "data": {
      "image/png": "[encoded data removed]",
      "text/plain": [
       "<matplotlib.figure.Figure at 0xc215eb8>"
      ]
     },
     "metadata": {},
     "output_type": "display_data"
    }
   ],
   "source": [
    "#Plotting the Stopping powers vs Energy for Xe\n",
    "plt.errorbar(x_xe, y_xe, yerr=z_xe, label=\"data\")\n",
    "#Putting the \"log\" scales \n",
    "plt.xscale('log')\n",
    "plt.yscale('log')\n",
    "#Limiting the y axis from 0 to 1000\n",
    "plt.ylim([1,1000])\n",
    "#Adding title and labels of x axis and y axis\n",
    "plt.suptitle('Stopping Power- Xe')\n",
    "plt.xlabel('Energy [MeV]')\n",
    "plt.ylabel(\"Stopping Power/Density[MeV.cm^2.g^-1]\")\n",
    "\n",
    "#getting the fitting data\n",
    "y_xe_e=np.array((941.68/x_xe)*(np.log((5.48e-4*x_xe)*(3727.3/(3727.3-(2*x_xe))))-(5.37e-4*x_xe)+7.49))\n",
    "#Plotting the fit graph\n",
    "plt.plot(x_xe,y_xe_e,label=\"Best fit\")\n",
    "#Limiting the y axis from 0 to 1000\n",
    "plt.ylim([1,1000])\n",
    "#Adding levels of x axis and y axis\n",
    "plt.xscale('log')\n",
    "plt.yscale('log')\n",
    "#Add legend\n",
    "plt.legend()\n",
    "#Save figure\n",
    "plt.savefig('Xe_1.png')"
   ]
  },
  {
   "cell_type": "code",
   "execution_count": null,
   "metadata": {
    "collapsed": false
   },
   "outputs": [],
   "source": []
  },
  {
   "cell_type": "code",
   "execution_count": 22,
   "metadata": {
    "collapsed": true
   },
   "outputs": [],
   "source": [
    "#Loding the file \"stopping_powers_pb\"\n",
    "pb=np.loadtxt(\"stopping_powers_pb.txt\")"
   ]
  },
  {
   "cell_type": "code",
   "execution_count": 23,
   "metadata": {
    "collapsed": false
   },
   "outputs": [],
   "source": [
    "#Seperating Energy values from the loaded file\n",
    "x_pb=pb[0:50,0]"
   ]
  },
  {
   "cell_type": "code",
   "execution_count": 24,
   "metadata": {
    "collapsed": false
   },
   "outputs": [],
   "source": [
    "#Seperating Stopping powers values from the loaded file\n",
    "y_pb=pb[0:50,1]"
   ]
  },
  {
   "cell_type": "code",
   "execution_count": 25,
   "metadata": {
    "collapsed": false
   },
   "outputs": [],
   "source": [
    "#Seperating Uncertainty values from the loaded file\n",
    "z_pb=pb[0:50,2]"
   ]
  },
  {
   "cell_type": "code",
   "execution_count": 27,
   "metadata": {
    "collapsed": false
   },
   "outputs": [
    {
     "name": "stdout",
     "output_type": "stream",
     "text": [
      "[ 414.009717    392.28984551  371.27023912  350.80907505  331.13424225\n",
      "  312.02033797  293.69108125  276.19316941  259.47541007  243.51494795\n",
      "  228.3052868   213.9005884   200.2355063   187.31272763  175.06180899\n",
      "  163.53172979  152.66580983  142.4059674   132.77296719  123.72261747\n",
      "  115.23772933  107.26665161   99.80555504   92.8194226    86.28264562\n",
      "   80.18073184   74.48775396   69.13468181   64.19009988   59.55230583\n",
      "   55.21845655   51.20495766   47.45470136   43.98267207   40.74833738\n",
      "   37.73803751   34.9502374    32.35388644   29.95759212   27.72491293\n",
      "   25.65952082   23.74672751   21.97575729   20.34113368   18.82946285\n",
      "   17.43589505   16.15392264   14.97537828   13.89502001   12.91086801]\n"
     ]
    },
    {
     "data": {
      "image/png": "[encoded data removed]",
      "text/plain": [
       "<matplotlib.figure.Figure at 0xc432710>"
      ]
     },
     "metadata": {},
     "output_type": "display_data"
    }
   ],
   "source": [
    "#Plotting the Stopping powers vs Energy for Xe\n",
    "plt.errorbar(x_pb, y_pb, yerr=z_pb,label=\"Data\")\n",
    "#Putting the \"log\" scales \n",
    "plt.xscale('log')\n",
    "plt.yscale('log')\n",
    "#Limiting the y axis from 0 to 1000\n",
    "plt.ylim([1,1000])\n",
    "#Adding title and labels of x axis and y axis\n",
    "plt.suptitle('Stopping Power- Pb')\n",
    "plt.xlabel('Energy [MeV]')\n",
    "plt.ylabel(\"Stopping Power/Densiy[MeV.cm^2.g^-1]\")\n",
    "\n",
    "#getting the fitting data\n",
    "y_pb_e=np.array((1813.16/x_pb)*(np.log((5.48e-4*x_pb)*(3727.3/(3727.3-(2*x_pb))))-(5.37e-4*x_pb)+7.49))\n",
    "print(y_pb_e)\n",
    "#Plotting the fit graph\n",
    "plt.plot(x_pb,y_pb_e,label=\"Best fit\")\n",
    "#Limiting the y axis from 0 to 1000\n",
    "plt.ylim([1,1000])\n",
    "#Adding levels of x axis and y axis\n",
    "plt.xscale('log')\n",
    "plt.yscale('log')\n",
    "#Add legend\n",
    "plt.legend()\n",
    "#Save figure\n",
    "plt.savefig('Pb_1.png')"
   ]
  },
  {
   "cell_type": "code",
   "execution_count": null,
   "metadata": {
    "collapsed": false
   },
   "outputs": [],
   "source": []
  },
  {
   "cell_type": "code",
   "execution_count": null,
   "metadata": {
    "collapsed": false
   },
   "outputs": [],
   "source": []
  },
  {
   "cell_type": "code",
   "execution_count": null,
   "metadata": {
    "collapsed": true
   },
   "outputs": [],
   "source": []
  },
  {
   "cell_type": "code",
   "execution_count": null,
   "metadata": {
    "collapsed": true
   },
   "outputs": [],
   "source": []
  },
  {
   "cell_type": "code",
   "execution_count": null,
   "metadata": {
    "collapsed": false
   },
   "outputs": [],
   "source": [
    "           "
   ]
  },
  {
   "cell_type": "code",
   "execution_count": null,
   "metadata": {
    "collapsed": true
   },
   "outputs": [],
   "source": []
  }
 ],
 "metadata": {
  "kernelspec": {
   "display_name": "Python 2",
   "language": "python",
   "name": "python2"
  },
  "language_info": {
   "codemirror_mode": {
    "name": "ipython",
    "version": 2
   },
   "file_extension": ".py",
   "mimetype": "text/x-python",
   "name": "python",
   "nbconvert_exporter": "python",
   "pygments_lexer": "ipython2",
   "version": "2.7.13"
  }
 },
 "nbformat": 4,
 "nbformat_minor": 2
}
