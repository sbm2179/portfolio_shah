{
 "cells": [
  {
   "cell_type": "markdown",
   "metadata": {},
   "source": []
  },
  {
   "cell_type": "code",
   "execution_count": null,
   "metadata": {
    "collapsed": false
   },
   "outputs": [],
   "source": [
    "a=raw_input(\"Who are you?\")#Input a string\n",
    "\n",
    "print(\"You are %s\")%(a)#print the string"
   ]
  },
  {
   "cell_type": "code",
   "execution_count": null,
   "metadata": {
    "collapsed": false
   },
   "outputs": [],
   "source": [
    "print(\"alpha\")\n",
    "print('bravo')\n",
    "print(str(4)) #print 4 as a string"
   ]
  },
  {
   "cell_type": "code",
   "execution_count": 8,
   "metadata": {
    "collapsed": false
   },
   "outputs": [
    {
     "name": "stdout",
     "output_type": "stream",
     "text": [
      "2017-02-23 01:54:54.720000\n",
      "2017\n",
      "2\n",
      "23\n"
     ]
    }
   ],
   "source": [
    "from datetime import datetime #import \n",
    "now=datetime.now()\n",
    "print(now)\n",
    "current_year=now.year\n",
    "current_month=now.month\n",
    "current_day=now.day\n",
    "print(current_year)\n",
    "print(current_month)\n",
    "print(current_day)"
   ]
  },
  {
   "cell_type": "code",
   "execution_count": 9,
   "metadata": {
    "collapsed": false
   },
   "outputs": [
    {
     "name": "stdout",
     "output_type": "stream",
     "text": [
      "2017-2-23\n"
     ]
    }
   ],
   "source": [
    "from datetime import datetime\n",
    "now=datetime.now()\n",
    "print\"%s-%s-%s\"%(now.year,now.month,now.day)"
   ]
  },
  {
   "cell_type": "code",
   "execution_count": 10,
   "metadata": {
    "collapsed": false
   },
   "outputs": [
    {
     "name": "stdout",
     "output_type": "stream",
     "text": [
      "1\n",
      "58\n",
      "47\n"
     ]
    }
   ],
   "source": [
    "from datetime import datetime\n",
    "now=datetime.now()\n",
    "print now.hour\n",
    "print now.minute\n",
    "print now.second"
   ]
  },
  {
   "cell_type": "code",
   "execution_count": 15,
   "metadata": {
    "collapsed": false
   },
   "outputs": [
    {
     "name": "stdout",
     "output_type": "stream",
     "text": [
      "False\n"
     ]
    }
   ],
   "source": [
    "a=True and False or not True\n",
    "print(a)\n"
   ]
  },
  {
   "cell_type": "code",
   "execution_count": null,
   "metadata": {
    "collapsed": false
   },
   "outputs": [],
   "source": [
    "\n",
    "def greater_than_5(x):\n",
    "    if x>5:\n",
    "        print(str(x)+\" is greater than 5.\")\n",
    "   \n",
    "    else:\n",
    "        print(str(x)+\" is 5.\")\n",
    "a=raw_input(\"Input an Integer:\")\n",
    "greater_than_5(a)"
   ]
  },
  {
   "cell_type": "code",
   "execution_count": null,
   "metadata": {
    "collapsed": false
   },
   "outputs": [],
   "source": [
    "def tax(bill):\n",
    "    \"\"\"Adds 8% tax to a restaurant bill.\"\"\"\n",
    "    bill *= 1.08\n",
    "    print \"With tax: %f\" % bill\n",
    "    return bill\n",
    "\n",
    "def tip(bill):\n",
    "    \"\"\"Adds 15% tip to a restaurant bill.\"\"\"\n",
    "    bill *= 1.15\n",
    "    print \"With tip: %f\" % bill\n",
    "    return bill\n",
    "meal_cost=100\n",
    "meal_with_tax = tax(meal_cost)\n",
    "meal_with_tip = tip(meal_with_tax)\n"
   ]
  },
  {
   "cell_type": "code",
   "execution_count": null,
   "metadata": {
    "collapsed": true
   },
   "outputs": [],
   "source": [
    "def square(n):\n",
    "    \"\"\"Returns the square of a number.\"\"\"\n",
    "    squared = n**2\n",
    "    print \"%d squared is %d.\" % (n, squared)\n",
    "    return squared\n",
    "    \n",
    "# Call the square function on line 9! Make sure to\n",
    "# include the number 10 between the parentheses.\n",
    "\n",
    "print(square(10))\n"
   ]
  },
  {
   "cell_type": "code",
   "execution_count": null,
   "metadata": {
    "collapsed": true
   },
   "outputs": [],
   "source": [
    "\"\"\"What if we still want all of the variables and functions in a module but don't want to have to constantly type math.?\n",
    "\n",
    "Universal import can handle this for you. The syntax for this is:\n",
    "\n",
    "from module import *\"\"\"\n",
    "\n",
    "from math import *"
   ]
  },
  {
   "cell_type": "code",
   "execution_count": null,
   "metadata": {
    "collapsed": true
   },
   "outputs": [],
   "source": [
    "def biggest_number(*args):\n",
    "    print max(args)\n",
    "    return max(args)\n",
    "    \n",
    "def smallest_number(*args):\n",
    "    print min(args)\n",
    "    return min(args)\n",
    "\n",
    "def distance_from_zero(arg):\n",
    "    print abs(arg)\n",
    "    return abs(arg)\n",
    "\n",
    "\n",
    "biggest_number(-10, -5, 5, 10)\n",
    "smallest_number(-10, -5, 5, 10)\n",
    "distance_from_zero(-10)"
   ]
  },
  {
   "cell_type": "code",
   "execution_count": null,
   "metadata": {
    "collapsed": true
   },
   "outputs": [],
   "source": [
    "import numpy as np\n",
    "letters = ['a', 'b', 'c']\n",
    "letters.append('d')\n",
    "print len(letters)\n",
    "print letters"
   ]
  },
  {
   "cell_type": "code",
   "execution_count": null,
   "metadata": {
    "collapsed": true
   },
   "outputs": [],
   "source": []
  }
 ],
 "metadata": {
  "kernelspec": {
   "display_name": "Python 2",
   "language": "python",
   "name": "python2"
  },
  "language_info": {
   "codemirror_mode": {
    "name": "ipython",
    "version": 2
   },
   "file_extension": ".py",
   "mimetype": "text/x-python",
   "name": "python",
   "nbconvert_exporter": "python",
   "pygments_lexer": "ipython2",
   "version": "2.7.13"
  }
 },
 "nbformat": 4,
 "nbformat_minor": 2
}
