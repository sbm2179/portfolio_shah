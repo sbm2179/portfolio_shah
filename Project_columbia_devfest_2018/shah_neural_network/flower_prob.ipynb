{
 "cells": [
  {
   "cell_type": "code",
   "execution_count": 1,
   "metadata": {
    "collapsed": true
   },
   "outputs": [],
   "source": [
    "import numpy as np"
   ]
  },
  {
   "cell_type": "code",
   "execution_count": 2,
   "metadata": {
    "collapsed": true
   },
   "outputs": [],
   "source": [
    "def NN(m1, m2, w1, w2, b):\n",
    "    z = m1 * w1 + m2 * w2 + b\n",
    "    return sigmoid(z) #will give a value between 0 and 1\n",
    "\n",
    "def sigmoid(x):\n",
    "    return 1/(1 + np.exp(-x))"
   ]
  },
  {
   "cell_type": "code",
   "execution_count": 3,
   "metadata": {
    "collapsed": true
   },
   "outputs": [],
   "source": [
    "#Random weights and bias\n",
    "w1 = np.random.randn()\n",
    "w2 = np.random.randn()\n",
    "b = np.random.randn()"
   ]
  },
  {
   "cell_type": "code",
   "execution_count": 4,
   "metadata": {
    "collapsed": true
   },
   "outputs": [],
   "source": [
    "#data\n",
    "data = [[3, 1.5, 1],\n",
    "        [2, 1, 0],\n",
    "        [4, 1.5, 1],\n",
    "        [3, 1, 0],\n",
    "        [3.5, .5, 1],\n",
    "        [2, .5, 1],\n",
    "        [5.5, 1, 1],\n",
    "        [1, 1, 0]]\n",
    "\n",
    "mystery_flower = [4.5, 1]"
   ]
  },
  {
   "cell_type": "code",
   "execution_count": 5,
   "metadata": {
    "collapsed": true
   },
   "outputs": [],
   "source": [
    "def sigmoid(x):\n",
    "    return 1/(1 + np.exp(-x))\n",
    "#derivative of sigmoid fuction\n",
    "def sigmoid_p(x):\n",
    "    return sigmoid(x)*(1 - sigmoid(x))"
   ]
  },
  {
   "cell_type": "code",
   "execution_count": 6,
   "metadata": {},
   "outputs": [
    {
     "name": "stdout",
     "output_type": "stream",
     "text": [
      "0.03029536247452439\n",
      "0.030314378293519142\n",
      "0.021789917721836544\n",
      "0.03034946294400655\n",
      "0.0049469111832476246\n",
      "0.040367920049709675\n",
      "0.03040142717307848\n",
      "0.030421662877647044\n",
      "0.6125807482697705\n",
      "0.040513220330178866\n",
      "0.04054523229577306\n",
      "0.030491881847678495\n",
      "0.022040212780191644\n",
      "0.011743562158352464\n",
      "0.030542540324483104\n",
      "0.7033786990949058\n",
      "0.6117674030742561\n",
      "0.01178645970799036\n",
      "0.5078036209869566\n",
      "0.5077349542138774\n",
      "0.7028102779559664\n",
      "0.5075778277516831\n",
      "0.5074961866710089\n",
      "0.5074128394425258\n",
      "0.04104022357453427\n",
      "0.7022211307504672\n",
      "0.5071821011484846\n",
      "0.6106321078420996\n",
      "0.00512808831291075\n",
      "0.6104057166312461\n",
      "0.02249065625735904\n",
      "0.5067775353660054\n",
      "0.011957616466167583\n",
      "0.041365123507613275\n",
      "0.01197735752365807\n",
      "0.030914510158789377\n",
      "0.7009512691173415\n",
      "0.0415097559132159\n",
      "0.030969237237970057\n",
      "0.7006059109527464\n",
      "0.005219945567816988\n",
      "0.012055409345519737\n",
      "0.0052346508208126205\n",
      "0.6089647355771906\n",
      "0.505765397063137\n",
      "0.005258091892012708\n",
      "0.6086653102040193\n",
      "0.03112817262395526\n",
      "0.5054612905218939\n",
      "0.04192659962135378\n"
     ]
    }
   ],
   "source": [
    "#training loop:\n",
    "\n",
    "learning_rate = 0.000001\n",
    "for i in range(50000):\n",
    "    ri = np.random.randint(len(data))\n",
    "    point = data[ri]\n",
    "    \n",
    "    z = point[0] * w1 + point[1] * w2 + b\n",
    "    pred = sigmoid(z)\n",
    "    \n",
    "    target = point[2]\n",
    "    \n",
    "    cost = np.square(pred - target)\n",
    "    \n",
    "    if i%1000 == 0:\n",
    "        print(cost)\n",
    "    \n",
    "    #derivative\n",
    "    dcost_pred = 2* (pred - target)\n",
    "    dpred_dz = sigmoid_p(z)\n",
    "    dz_dw1 = point[0]\n",
    "    dz_dw2 = point[1]\n",
    "    dz_db = 1\n",
    "    \n",
    "    #chain rule\n",
    "    dcost_dw1 = dcost_pred * dpred_dz * dz_dw1\n",
    "    dcost_dw2 = dcost_pred * dpred_dz * dz_dw2\n",
    "    dcost_db = dcost_pred * dpred_dz * dz_db\n",
    "    \n",
    "    w1 = w1 - learning_rate*dcost_dw1\n",
    "    w2 = w2 - learning_rate*dcost_dw2\n",
    "    b = b - learning_rate*dcost_db\n",
    "    "
   ]
  },
  {
   "cell_type": "code",
   "execution_count": 29,
   "metadata": {},
   "outputs": [
    {
     "name": "stdout",
     "output_type": "stream",
     "text": [
      "0.319128854083 -0.219171834345 0.681641210492\n"
     ]
    }
   ],
   "source": [
    "print(w1,w2,b)\n"
   ]
  },
  {
   "cell_type": "code",
   "execution_count": 30,
   "metadata": {},
   "outputs": [
    {
     "data": {
      "text/plain": [
       "0.86972723779327599"
      ]
     },
     "execution_count": 30,
     "metadata": {},
     "output_type": "execute_result"
    }
   ],
   "source": [
    "z1 = mystery_flower[0] * w1 + mystery_flower[1] *w2 + b\n",
    "pred = sigmoid(z1)\n",
    "pred"
   ]
  },
  {
   "cell_type": "code",
   "execution_count": null,
   "metadata": {
    "collapsed": true
   },
   "outputs": [],
   "source": []
  }
 ],
 "metadata": {
  "kernelspec": {
   "display_name": "Python 3",
   "language": "python",
   "name": "python3"
  },
  "language_info": {
   "codemirror_mode": {
    "name": "ipython",
    "version": 3
   },
   "file_extension": ".py",
   "mimetype": "text/x-python",
   "name": "python",
   "nbconvert_exporter": "python",
   "pygments_lexer": "ipython3",
   "version": "3.6.3"
  }
 },
 "nbformat": 4,
 "nbformat_minor": 2
}
