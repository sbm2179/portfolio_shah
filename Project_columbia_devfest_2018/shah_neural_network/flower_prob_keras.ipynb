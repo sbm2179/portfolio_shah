{
 "cells": [
  {
   "cell_type": "code",
   "execution_count": 1,
   "metadata": {},
   "outputs": [
    {
     "name": "stderr",
     "output_type": "stream",
     "text": [
      "/mnt/c/Us/Public/lib/python3.6/site-packages/h5py/__init__.py:34: FutureWarning: Conversion of the second argument of issubdtype from `float` to `np.floating` is deprecated. In future, it will be treated as `np.float64 == np.dtype(float).type`.\n",
      "  from ._conv import register_converters as _register_converters\n",
      "Using TensorFlow backend.\n"
     ]
    }
   ],
   "source": [
    "#First install keras, tensorflow and theano\n",
    "from keras.models import Sequential\n",
    "from keras.layers import Dense\n",
    "import numpy as np"
   ]
  },
  {
   "cell_type": "code",
   "execution_count": 2,
   "metadata": {
    "collapsed": true
   },
   "outputs": [],
   "source": [
    "#fix random seed for reproductibility\n",
    "np.random.seed(7)"
   ]
  },
  {
   "cell_type": "code",
   "execution_count": 3,
   "metadata": {},
   "outputs": [],
   "source": [
    "#data\n",
    "data = np.array([[3, 1.5, 1],\n",
    "        [2, 1, 0],\n",
    "        [4, 1.5, 1],\n",
    "        [3, 1, 0],\n",
    "        [3.5, .5, 1],\n",
    "        [2, .5, 1],\n",
    "        [5.5, 1, 1],\n",
    "        [1, 1, 0]])\n",
    "\n",
    "X = data[:,0:2]\n",
    "Y = data[:,2]\n",
    "\n"
   ]
  },
  {
   "cell_type": "code",
   "execution_count": 4,
   "metadata": {},
   "outputs": [
    {
     "name": "stdout",
     "output_type": "stream",
     "text": [
      "(8, 2)\n"
     ]
    },
    {
     "data": {
      "text/plain": [
       "array([[3. , 1.5],\n",
       "       [2. , 1. ],\n",
       "       [4. , 1.5],\n",
       "       [3. , 1. ],\n",
       "       [3.5, 0.5],\n",
       "       [2. , 0.5],\n",
       "       [5.5, 1. ],\n",
       "       [1. , 1. ]])"
      ]
     },
     "execution_count": 4,
     "metadata": {},
     "output_type": "execute_result"
    }
   ],
   "source": [
    "print(np.shape(X))\n",
    "X"
   ]
  },
  {
   "cell_type": "code",
   "execution_count": 5,
   "metadata": {
    "collapsed": true
   },
   "outputs": [],
   "source": [
    "#Model in keras are defined as a sequence of layers\n",
    "#create model \n",
    "model = Sequential()\n",
    "model.add(Dense(12, input_dim = 2, activation = \"relu\"))\n",
    "model.add(Dense(8, activation = \"relu\"))\n",
    "model.add(Dense(1,activation = \"sigmoid\"))"
   ]
  },
  {
   "cell_type": "code",
   "execution_count": 6,
   "metadata": {
    "collapsed": true
   },
   "outputs": [],
   "source": [
    "model.compile(loss = \"binary_crossentropy\", optimizer=\"adam\", metrics = [\"accuracy\"])"
   ]
  },
  {
   "cell_type": "code",
   "execution_count": 7,
   "metadata": {},
   "outputs": [
    {
     "name": "stdout",
     "output_type": "stream",
     "text": [
      "Epoch 1/150\n",
      "8/8 [==============================] - 0s 18ms/step - loss: 0.7464 - acc: 0.3750\n",
      "Epoch 2/150\n",
      "8/8 [==============================] - 0s 300us/step - loss: 0.7439 - acc: 0.3750\n",
      "Epoch 3/150\n",
      "8/8 [==============================] - 0s 273us/step - loss: 0.7415 - acc: 0.3750\n",
      "Epoch 4/150\n",
      "8/8 [==============================] - 0s 305us/step - loss: 0.7391 - acc: 0.3750\n",
      "Epoch 5/150\n",
      "8/8 [==============================] - 0s 278us/step - loss: 0.7368 - acc: 0.3750\n",
      "Epoch 6/150\n",
      "8/8 [==============================] - 0s 265us/step - loss: 0.7345 - acc: 0.3750\n",
      "Epoch 7/150\n",
      "8/8 [==============================] - 0s 395us/step - loss: 0.7322 - acc: 0.3750\n",
      "Epoch 8/150\n",
      "8/8 [==============================] - 0s 505us/step - loss: 0.7300 - acc: 0.3750\n",
      "Epoch 9/150\n",
      "8/8 [==============================] - 0s 431us/step - loss: 0.7279 - acc: 0.3750\n",
      "Epoch 10/150\n",
      "8/8 [==============================] - 0s 333us/step - loss: 0.7258 - acc: 0.3750\n",
      "Epoch 11/150\n",
      "8/8 [==============================] - 0s 460us/step - loss: 0.7237 - acc: 0.3750\n",
      "Epoch 12/150\n",
      "8/8 [==============================] - 0s 211us/step - loss: 0.7218 - acc: 0.3750\n",
      "Epoch 13/150\n",
      "8/8 [==============================] - 0s 513us/step - loss: 0.7202 - acc: 0.3750\n",
      "Epoch 14/150\n",
      "8/8 [==============================] - 0s 212us/step - loss: 0.7186 - acc: 0.3750\n",
      "Epoch 15/150\n",
      "8/8 [==============================] - 0s 507us/step - loss: 0.7169 - acc: 0.3750\n",
      "Epoch 16/150\n",
      "8/8 [==============================] - 0s 763us/step - loss: 0.7150 - acc: 0.3750\n",
      "Epoch 17/150\n",
      "8/8 [==============================] - 0s 208us/step - loss: 0.7132 - acc: 0.3750\n",
      "Epoch 18/150\n",
      "8/8 [==============================] - 0s 249us/step - loss: 0.7115 - acc: 0.3750\n",
      "Epoch 19/150\n",
      "8/8 [==============================] - 0s 458us/step - loss: 0.7097 - acc: 0.3750\n",
      "Epoch 20/150\n",
      "8/8 [==============================] - 0s 211us/step - loss: 0.7082 - acc: 0.3750\n",
      "Epoch 21/150\n",
      "8/8 [==============================] - 0s 276us/step - loss: 0.7066 - acc: 0.3750\n",
      "Epoch 22/150\n",
      "8/8 [==============================] - 0s 523us/step - loss: 0.7051 - acc: 0.5000\n",
      "Epoch 23/150\n",
      "8/8 [==============================] - 0s 210us/step - loss: 0.7037 - acc: 0.5000\n",
      "Epoch 24/150\n",
      "8/8 [==============================] - 0s 229us/step - loss: 0.7023 - acc: 0.5000\n",
      "Epoch 25/150\n",
      "8/8 [==============================] - 0s 544us/step - loss: 0.7009 - acc: 0.5000\n",
      "Epoch 26/150\n",
      "8/8 [==============================] - 0s 588us/step - loss: 0.6994 - acc: 0.6250\n",
      "Epoch 27/150\n",
      "8/8 [==============================] - 0s 252us/step - loss: 0.6979 - acc: 0.5000\n",
      "Epoch 28/150\n",
      "8/8 [==============================] - 0s 573us/step - loss: 0.6963 - acc: 0.5000\n",
      "Epoch 29/150\n",
      "8/8 [==============================] - 0s 779us/step - loss: 0.6950 - acc: 0.5000\n",
      "Epoch 30/150\n",
      "8/8 [==============================] - 0s 265us/step - loss: 0.6936 - acc: 0.5000\n",
      "Epoch 31/150\n",
      "8/8 [==============================] - 0s 230us/step - loss: 0.6923 - acc: 0.5000\n",
      "Epoch 32/150\n",
      "8/8 [==============================] - 0s 455us/step - loss: 0.6909 - acc: 0.5000\n",
      "Epoch 33/150\n",
      "8/8 [==============================] - 0s 325us/step - loss: 0.6896 - acc: 0.5000\n",
      "Epoch 34/150\n",
      "8/8 [==============================] - 0s 433us/step - loss: 0.6885 - acc: 0.5000\n",
      "Epoch 35/150\n",
      "8/8 [==============================] - 0s 242us/step - loss: 0.6874 - acc: 0.5000\n",
      "Epoch 36/150\n",
      "8/8 [==============================] - 0s 627us/step - loss: 0.6862 - acc: 0.5000\n",
      "Epoch 37/150\n",
      "8/8 [==============================] - 0s 244us/step - loss: 0.6851 - acc: 0.5000\n",
      "Epoch 38/150\n",
      "8/8 [==============================] - 0s 241us/step - loss: 0.6841 - acc: 0.5000\n",
      "Epoch 39/150\n",
      "8/8 [==============================] - 0s 242us/step - loss: 0.6831 - acc: 0.5000\n",
      "Epoch 40/150\n",
      "8/8 [==============================] - 0s 210us/step - loss: 0.6824 - acc: 0.5000\n",
      "Epoch 41/150\n",
      "8/8 [==============================] - 0s 996us/step - loss: 0.6816 - acc: 0.6250\n",
      "Epoch 42/150\n",
      "8/8 [==============================] - 0s 305us/step - loss: 0.6808 - acc: 0.6250\n",
      "Epoch 43/150\n",
      "8/8 [==============================] - 0s 279us/step - loss: 0.6800 - acc: 0.6250\n",
      "Epoch 44/150\n",
      "8/8 [==============================] - 0s 491us/step - loss: 0.6793 - acc: 0.6250\n",
      "Epoch 45/150\n",
      "8/8 [==============================] - 0s 206us/step - loss: 0.6785 - acc: 0.7500\n",
      "Epoch 46/150\n",
      "8/8 [==============================] - 0s 518us/step - loss: 0.6778 - acc: 0.7500\n",
      "Epoch 47/150\n",
      "8/8 [==============================] - 0s 280us/step - loss: 0.6771 - acc: 0.8750\n",
      "Epoch 48/150\n",
      "8/8 [==============================] - 0s 207us/step - loss: 0.6763 - acc: 0.8750\n",
      "Epoch 49/150\n",
      "8/8 [==============================] - 0s 214us/step - loss: 0.6756 - acc: 0.8750\n",
      "Epoch 50/150\n",
      "8/8 [==============================] - 0s 717us/step - loss: 0.6749 - acc: 0.8750\n",
      "Epoch 51/150\n",
      "8/8 [==============================] - 0s 295us/step - loss: 0.6741 - acc: 0.8750\n",
      "Epoch 52/150\n",
      "8/8 [==============================] - 0s 299us/step - loss: 0.6734 - acc: 0.8750\n",
      "Epoch 53/150\n",
      "8/8 [==============================] - 0s 467us/step - loss: 0.6728 - acc: 0.8750\n",
      "Epoch 54/150\n",
      "8/8 [==============================] - 0s 245us/step - loss: 0.6721 - acc: 0.8750\n",
      "Epoch 55/150\n",
      "8/8 [==============================] - 0s 663us/step - loss: 0.6715 - acc: 0.8750\n",
      "Epoch 56/150\n",
      "8/8 [==============================] - 0s 232us/step - loss: 0.6710 - acc: 0.8750\n",
      "Epoch 57/150\n",
      "8/8 [==============================] - 0s 291us/step - loss: 0.6707 - acc: 0.8750\n",
      "Epoch 58/150\n",
      "8/8 [==============================] - 0s 213us/step - loss: 0.6704 - acc: 0.8750\n",
      "Epoch 59/150\n",
      "8/8 [==============================] - 0s 228us/step - loss: 0.6701 - acc: 0.8750\n",
      "Epoch 60/150\n",
      "8/8 [==============================] - 0s 285us/step - loss: 0.6698 - acc: 0.8750\n",
      "Epoch 61/150\n",
      "8/8 [==============================] - 0s 376us/step - loss: 0.6695 - acc: 0.8750\n",
      "Epoch 62/150\n",
      "8/8 [==============================] - 0s 596us/step - loss: 0.6691 - acc: 0.8750\n",
      "Epoch 63/150\n",
      "8/8 [==============================] - 0s 556us/step - loss: 0.6688 - acc: 0.8750\n",
      "Epoch 64/150\n",
      "8/8 [==============================] - 0s 252us/step - loss: 0.6685 - acc: 0.8750\n",
      "Epoch 65/150\n",
      "8/8 [==============================] - 0s 243us/step - loss: 0.6682 - acc: 0.8750\n",
      "Epoch 66/150\n",
      "8/8 [==============================] - 0s 306us/step - loss: 0.6679 - acc: 0.8750\n",
      "Epoch 67/150\n",
      "8/8 [==============================] - 0s 322us/step - loss: 0.6675 - acc: 0.8750\n",
      "Epoch 68/150\n",
      "8/8 [==============================] - 0s 208us/step - loss: 0.6672 - acc: 0.8750\n",
      "Epoch 69/150\n",
      "8/8 [==============================] - 0s 217us/step - loss: 0.6668 - acc: 0.8750\n",
      "Epoch 70/150\n",
      "8/8 [==============================] - 0s 684us/step - loss: 0.6665 - acc: 0.8750\n",
      "Epoch 71/150\n",
      "8/8 [==============================] - 0s 296us/step - loss: 0.6661 - acc: 0.8750\n",
      "Epoch 72/150\n",
      "8/8 [==============================] - 0s 341us/step - loss: 0.6658 - acc: 0.8750\n",
      "Epoch 73/150\n",
      "8/8 [==============================] - 0s 215us/step - loss: 0.6654 - acc: 0.8750\n",
      "Epoch 74/150\n",
      "8/8 [==============================] - 0s 281us/step - loss: 0.6650 - acc: 0.8750\n",
      "Epoch 75/150\n",
      "8/8 [==============================] - 0s 442us/step - loss: 0.6647 - acc: 0.8750\n",
      "Epoch 76/150\n",
      "8/8 [==============================] - 0s 240us/step - loss: 0.6643 - acc: 0.8750\n",
      "Epoch 77/150\n",
      "8/8 [==============================] - 0s 220us/step - loss: 0.6639 - acc: 0.8750\n",
      "Epoch 78/150\n",
      "8/8 [==============================] - 0s 303us/step - loss: 0.6635 - acc: 0.8750\n",
      "Epoch 79/150\n",
      "8/8 [==============================] - 0s 687us/step - loss: 0.6632 - acc: 0.8750\n",
      "Epoch 80/150\n",
      "8/8 [==============================] - 0s 490us/step - loss: 0.6628 - acc: 0.8750\n",
      "Epoch 81/150\n",
      "8/8 [==============================] - 0s 506us/step - loss: 0.6625 - acc: 0.8750\n",
      "Epoch 82/150\n",
      "8/8 [==============================] - 0s 313us/step - loss: 0.6621 - acc: 0.8750\n",
      "Epoch 83/150\n",
      "8/8 [==============================] - 0s 264us/step - loss: 0.6617 - acc: 0.8750\n",
      "Epoch 84/150\n",
      "8/8 [==============================] - 0s 278us/step - loss: 0.6613 - acc: 0.8750\n",
      "Epoch 85/150\n",
      "8/8 [==============================] - 0s 382us/step - loss: 0.6609 - acc: 0.8750\n",
      "Epoch 86/150\n",
      "8/8 [==============================] - 0s 265us/step - loss: 0.6605 - acc: 0.8750\n",
      "Epoch 87/150\n",
      "8/8 [==============================] - 0s 348us/step - loss: 0.6601 - acc: 0.8750\n"
     ]
    },
    {
     "name": "stdout",
     "output_type": "stream",
     "text": [
      "Epoch 88/150\n",
      "8/8 [==============================] - 0s 502us/step - loss: 0.6597 - acc: 0.8750\n",
      "Epoch 89/150\n",
      "8/8 [==============================] - 0s 286us/step - loss: 0.6593 - acc: 0.8750\n",
      "Epoch 90/150\n",
      "8/8 [==============================] - 0s 273us/step - loss: 0.6590 - acc: 0.7500\n",
      "Epoch 91/150\n",
      "8/8 [==============================] - 0s 315us/step - loss: 0.6585 - acc: 0.7500\n",
      "Epoch 92/150\n",
      "8/8 [==============================] - 0s 348us/step - loss: 0.6581 - acc: 0.7500\n",
      "Epoch 93/150\n",
      "8/8 [==============================] - 0s 545us/step - loss: 0.6577 - acc: 0.7500\n",
      "Epoch 94/150\n",
      "8/8 [==============================] - 0s 391us/step - loss: 0.6573 - acc: 0.7500\n",
      "Epoch 95/150\n",
      "8/8 [==============================] - 0s 346us/step - loss: 0.6569 - acc: 0.7500\n",
      "Epoch 96/150\n",
      "8/8 [==============================] - 0s 333us/step - loss: 0.6565 - acc: 0.7500\n",
      "Epoch 97/150\n",
      "8/8 [==============================] - 0s 371us/step - loss: 0.6561 - acc: 0.7500\n",
      "Epoch 98/150\n",
      "8/8 [==============================] - 0s 356us/step - loss: 0.6556 - acc: 0.7500\n",
      "Epoch 99/150\n",
      "8/8 [==============================] - 0s 429us/step - loss: 0.6552 - acc: 0.7500\n",
      "Epoch 100/150\n",
      "8/8 [==============================] - 0s 540us/step - loss: 0.6549 - acc: 0.7500\n",
      "Epoch 101/150\n",
      "8/8 [==============================] - 0s 560us/step - loss: 0.6545 - acc: 0.7500\n",
      "Epoch 102/150\n",
      "8/8 [==============================] - 0s 957us/step - loss: 0.6541 - acc: 0.7500\n",
      "Epoch 103/150\n",
      "8/8 [==============================] - 0s 336us/step - loss: 0.6537 - acc: 0.7500\n",
      "Epoch 104/150\n",
      "8/8 [==============================] - 0s 365us/step - loss: 0.6533 - acc: 0.7500\n",
      "Epoch 105/150\n",
      "8/8 [==============================] - 0s 296us/step - loss: 0.6529 - acc: 0.7500\n",
      "Epoch 106/150\n",
      "8/8 [==============================] - 0s 833us/step - loss: 0.6525 - acc: 0.7500\n",
      "Epoch 107/150\n",
      "8/8 [==============================] - 0s 612us/step - loss: 0.6521 - acc: 0.7500\n",
      "Epoch 108/150\n",
      "8/8 [==============================] - 0s 244us/step - loss: 0.6517 - acc: 0.7500\n",
      "Epoch 109/150\n",
      "8/8 [==============================] - 0s 700us/step - loss: 0.6513 - acc: 0.7500\n",
      "Epoch 110/150\n",
      "8/8 [==============================] - 0s 243us/step - loss: 0.6509 - acc: 0.7500\n",
      "Epoch 111/150\n",
      "8/8 [==============================] - 0s 216us/step - loss: 0.6505 - acc: 0.7500\n",
      "Epoch 112/150\n",
      "8/8 [==============================] - 0s 259us/step - loss: 0.6501 - acc: 0.7500\n",
      "Epoch 113/150\n",
      "8/8 [==============================] - 0s 245us/step - loss: 0.6497 - acc: 0.7500\n",
      "Epoch 114/150\n",
      "8/8 [==============================] - 0s 250us/step - loss: 0.6493 - acc: 0.7500\n",
      "Epoch 115/150\n",
      "8/8 [==============================] - 0s 342us/step - loss: 0.6489 - acc: 0.7500\n",
      "Epoch 116/150\n",
      "8/8 [==============================] - 0s 232us/step - loss: 0.6484 - acc: 0.7500\n",
      "Epoch 117/150\n",
      "8/8 [==============================] - 0s 282us/step - loss: 0.6481 - acc: 0.7500\n",
      "Epoch 118/150\n",
      "8/8 [==============================] - 0s 894us/step - loss: 0.6476 - acc: 0.7500\n",
      "Epoch 119/150\n",
      "8/8 [==============================] - 0s 253us/step - loss: 0.6472 - acc: 0.7500\n",
      "Epoch 120/150\n",
      "8/8 [==============================] - 0s 258us/step - loss: 0.6468 - acc: 0.7500\n",
      "Epoch 121/150\n",
      "8/8 [==============================] - 0s 634us/step - loss: 0.6464 - acc: 0.7500\n",
      "Epoch 122/150\n",
      "8/8 [==============================] - 0s 359us/step - loss: 0.6460 - acc: 0.7500\n",
      "Epoch 123/150\n",
      "8/8 [==============================] - 0s 1ms/step - loss: 0.6455 - acc: 0.7500\n",
      "Epoch 124/150\n",
      "8/8 [==============================] - 0s 305us/step - loss: 0.6451 - acc: 0.7500\n",
      "Epoch 125/150\n",
      "8/8 [==============================] - 0s 250us/step - loss: 0.6447 - acc: 0.7500\n",
      "Epoch 126/150\n",
      "8/8 [==============================] - 0s 613us/step - loss: 0.6443 - acc: 0.7500\n",
      "Epoch 127/150\n",
      "8/8 [==============================] - 0s 387us/step - loss: 0.6439 - acc: 0.7500\n",
      "Epoch 128/150\n",
      "8/8 [==============================] - 0s 294us/step - loss: 0.6434 - acc: 0.7500\n",
      "Epoch 129/150\n",
      "8/8 [==============================] - 0s 493us/step - loss: 0.6430 - acc: 0.7500\n",
      "Epoch 130/150\n",
      "8/8 [==============================] - 0s 238us/step - loss: 0.6426 - acc: 0.7500\n",
      "Epoch 131/150\n",
      "8/8 [==============================] - 0s 525us/step - loss: 0.6422 - acc: 0.7500\n",
      "Epoch 132/150\n",
      "8/8 [==============================] - 0s 218us/step - loss: 0.6417 - acc: 0.7500\n",
      "Epoch 133/150\n",
      "8/8 [==============================] - 0s 217us/step - loss: 0.6413 - acc: 0.7500\n",
      "Epoch 134/150\n",
      "8/8 [==============================] - 0s 246us/step - loss: 0.6409 - acc: 0.7500\n",
      "Epoch 135/150\n",
      "8/8 [==============================] - 0s 1ms/step - loss: 0.6404 - acc: 0.7500\n",
      "Epoch 136/150\n",
      "8/8 [==============================] - 0s 268us/step - loss: 0.6400 - acc: 0.7500\n",
      "Epoch 137/150\n",
      "8/8 [==============================] - 0s 239us/step - loss: 0.6396 - acc: 0.7500\n",
      "Epoch 138/150\n",
      "8/8 [==============================] - 0s 536us/step - loss: 0.6391 - acc: 0.7500\n",
      "Epoch 139/150\n",
      "8/8 [==============================] - 0s 287us/step - loss: 0.6387 - acc: 0.7500\n",
      "Epoch 140/150\n",
      "8/8 [==============================] - 0s 524us/step - loss: 0.6382 - acc: 0.7500\n",
      "Epoch 141/150\n",
      "8/8 [==============================] - 0s 505us/step - loss: 0.6378 - acc: 0.7500\n",
      "Epoch 142/150\n",
      "8/8 [==============================] - 0s 236us/step - loss: 0.6374 - acc: 0.7500\n",
      "Epoch 143/150\n",
      "8/8 [==============================] - 0s 302us/step - loss: 0.6369 - acc: 0.7500\n",
      "Epoch 144/150\n",
      "8/8 [==============================] - 0s 285us/step - loss: 0.6364 - acc: 0.7500\n",
      "Epoch 145/150\n",
      "8/8 [==============================] - 0s 656us/step - loss: 0.6360 - acc: 0.7500\n",
      "Epoch 146/150\n",
      "8/8 [==============================] - 0s 333us/step - loss: 0.6355 - acc: 0.7500\n",
      "Epoch 147/150\n",
      "8/8 [==============================] - 0s 264us/step - loss: 0.6351 - acc: 0.7500\n",
      "Epoch 148/150\n",
      "8/8 [==============================] - 0s 303us/step - loss: 0.6346 - acc: 0.7500\n",
      "Epoch 149/150\n",
      "8/8 [==============================] - 0s 295us/step - loss: 0.6341 - acc: 0.7500\n",
      "Epoch 150/150\n",
      "8/8 [==============================] - 0s 303us/step - loss: 0.6337 - acc: 0.7500\n"
     ]
    },
    {
     "data": {
      "text/plain": [
       "<keras.callbacks.History at 0x7ff92e21f320>"
      ]
     },
     "execution_count": 7,
     "metadata": {},
     "output_type": "execute_result"
    }
   ],
   "source": [
    "model.fit(X, Y, epochs = 150, batch_size = 10) #iteration = epochs "
   ]
  },
  {
   "cell_type": "code",
   "execution_count": 11,
   "metadata": {},
   "outputs": [
    {
     "name": "stdout",
     "output_type": "stream",
     "text": [
      "8/8 [==============================] - 0s 111us/step\n",
      "\n",
      "acc : 75.00%\n"
     ]
    }
   ],
   "source": [
    "#Evaluation\n",
    "scores = model.evaluate(X, Y)\n",
    "print(\"\\n%s : %.2f%%\" %(model.metrics_names[1], scores[1]*100))"
   ]
  },
  {
   "cell_type": "code",
   "execution_count": 9,
   "metadata": {},
   "outputs": [
    {
     "name": "stdout",
     "output_type": "stream",
     "text": [
      "(1, 2)\n"
     ]
    }
   ],
   "source": [
    "mystery_flower = np.array([[4.5, 1]])\n",
    "\n",
    "print(np.shape(mystery_flower))"
   ]
  },
  {
   "cell_type": "code",
   "execution_count": 10,
   "metadata": {},
   "outputs": [
    {
     "name": "stdout",
     "output_type": "stream",
     "text": [
      "[[0.5381546]]\n"
     ]
    }
   ],
   "source": [
    "#caluculate predictions\n",
    "predictions = model.predict(mystery_flower)\n",
    "print(predictions)"
   ]
  },
  {
   "cell_type": "code",
   "execution_count": null,
   "metadata": {
    "collapsed": true
   },
   "outputs": [],
   "source": []
  },
  {
   "cell_type": "code",
   "execution_count": null,
   "metadata": {
    "collapsed": true
   },
   "outputs": [],
   "source": []
  }
 ],
 "metadata": {
  "kernelspec": {
   "display_name": "Python 3",
   "language": "python",
   "name": "python3"
  },
  "language_info": {
   "codemirror_mode": {
    "name": "ipython",
    "version": 3
   },
   "file_extension": ".py",
   "mimetype": "text/x-python",
   "name": "python",
   "nbconvert_exporter": "python",
   "pygments_lexer": "ipython3",
   "version": "3.6.3"
  }
 },
 "nbformat": 4,
 "nbformat_minor": 2
}
