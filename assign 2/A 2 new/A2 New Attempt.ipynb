{
 "cells": [
  {
   "cell_type": "code",
   "execution_count": 6,
   "metadata": {
    "collapsed": true
   },
   "outputs": [],
   "source": [
    "import numpy as np\n",
    "import scipy\n",
    "from scipy.stats import norm as n\n",
    "from scipy.stats import poisson as p\n",
    "from scipy.optimize import curve_fit\n",
    "import matplotlib.pyplot as plt"
   ]
  },
  {
   "cell_type": "code",
   "execution_count": 7,
   "metadata": {
    "collapsed": false
   },
   "outputs": [
    {
     "name": "stdout",
     "output_type": "stream",
     "text": [
      "1000000\n"
     ]
    }
   ],
   "source": [
    "#Inputting the data file\n",
    "height_data=np.loadtxt(\"pmt_data.txt\")\n",
    "num_data_pts = 1000000\n",
    "print len(height_data)"
   ]
  },
  {
   "cell_type": "code",
   "execution_count": 9,
   "metadata": {
    "collapsed": false,
    "scrolled": true
   },
   "outputs": [
    {
     "ename": "NameError",
     "evalue": "name 'a_counts' is not defined",
     "output_type": "error",
     "traceback": [
      "\u001b[0;31m---------------------------------------------------------------------------\u001b[0m",
      "\u001b[0;31mNameError\u001b[0m                                 Traceback (most recent call last)",
      "\u001b[0;32m<ipython-input-9-1d782445ceee>\u001b[0m in \u001b[0;36m<module>\u001b[0;34m()\u001b[0m\n\u001b[1;32m     44\u001b[0m                    - (a_counts*np.log(a_counts) - a_counts) )\n\u001b[1;32m     45\u001b[0m \u001b[1;33m\u001b[0m\u001b[0m\n\u001b[0;32m---> 46\u001b[0;31m \u001b[0mresults\u001b[0m \u001b[1;33m=\u001b[0m \u001b[0mscipy\u001b[0m\u001b[1;33m.\u001b[0m\u001b[0moptimize\u001b[0m\u001b[1;33m.\u001b[0m\u001b[0mminimize\u001b[0m\u001b[1;33m(\u001b[0m\u001b[0mneg_ln_likelihood_poisson\u001b[0m\u001b[1;33m,\u001b[0m \u001b[0margs\u001b[0m\u001b[1;33m=\u001b[0m\u001b[1;33m(\u001b[0m\u001b[0ma_pmt_bin_centers\u001b[0m\u001b[1;33m,\u001b[0m \u001b[0ma_counts\u001b[0m\u001b[1;33m)\u001b[0m\u001b[1;33m)\u001b[0m\u001b[1;33m\u001b[0m\u001b[0m\n\u001b[0m\u001b[1;32m     47\u001b[0m \u001b[1;33m\u001b[0m\u001b[0m\n\u001b[1;32m     48\u001b[0m \u001b[1;32mprint\u001b[0m \u001b[1;34m'Best fit parameters: %.2f, %.2f, %.2f %.2f %.2f %.2f'\u001b[0m \u001b[1;33m%\u001b[0m \u001b[1;33m(\u001b[0m\u001b[0mresults\u001b[0m\u001b[1;33m.\u001b[0m\u001b[0mx\u001b[0m\u001b[1;33m[\u001b[0m\u001b[1;36m0\u001b[0m\u001b[1;33m]\u001b[0m\u001b[1;33m,\u001b[0m \u001b[0mresults\u001b[0m\u001b[1;33m.\u001b[0m\u001b[0mx\u001b[0m\u001b[1;33m[\u001b[0m\u001b[1;36m1\u001b[0m\u001b[1;33m]\u001b[0m\u001b[1;33m,\u001b[0m \u001b[0mresults\u001b[0m\u001b[1;33m.\u001b[0m\u001b[0mx\u001b[0m\u001b[1;33m[\u001b[0m\u001b[1;36m2\u001b[0m\u001b[1;33m]\u001b[0m\u001b[1;33m,\u001b[0m \u001b[0mresults\u001b[0m\u001b[1;33m.\u001b[0m\u001b[0mx\u001b[0m\u001b[1;33m[\u001b[0m\u001b[1;36m3\u001b[0m\u001b[1;33m]\u001b[0m\u001b[1;33m,\u001b[0m \u001b[0mresults\u001b[0m\u001b[1;33m.\u001b[0m\u001b[0mx\u001b[0m\u001b[1;33m[\u001b[0m\u001b[1;36m4\u001b[0m\u001b[1;33m]\u001b[0m\u001b[1;33m,\u001b[0m \u001b[0mresults\u001b[0m\u001b[1;33m.\u001b[0m\u001b[0mx\u001b[0m\u001b[1;33m[\u001b[0m\u001b[1;36m5\u001b[0m\u001b[1;33m]\u001b[0m\u001b[1;33m)\u001b[0m\u001b[1;33m\u001b[0m\u001b[0m\n",
      "\u001b[0;31mNameError\u001b[0m: name 'a_counts' is not defined"
     ]
    }
   ],
   "source": [
    "#Graphing the histogram\n",
    "num_bins = 100\n",
    "a_range = (-9e5, 3.6e6)\n",
    "y_values, bin_edges, _ = plt.hist(height_data, bins=num_bins, range=a_range, color= \"gray\", label=\"Data\")\n",
    "_ = plt.xlim(a_range)\n",
    "_ = plt.xlabel('Gain[e-]')\n",
    "_ = plt.ylabel('Counts')\n",
    "_ = plt.yscale('log')\n",
    "_ = plt.ylim([0,10**5])\n",
    "\n",
    "#Inputting the error bar\n",
    "_ = bincenters = 0.5*(bin_edges[1:]+bin_edges[:-1])\n",
    "_ = menStd=np.sqrt(y_values)\n",
    "_ = width = 0.05\n",
    "_ = plt.bar(bincenters, y_values, width=width, color='r', yerr=menStd, label =\"Error\",linewidth=1000.0)\n",
    "_ = plt.suptitle('PMT Gain Calibration', fontsize=15)\n",
    "\n",
    "a_pmt_bin_centers = np.zeros(num_bins)\n",
    "bin_width = bin_edges[1]-bin_edges[0]\n",
    "for i in xrange(num_bins):\n",
    "    a_pmt_bin_centers[i] = (bin_edges[i]+bin_edges[i+1])/2.\n",
    "\n",
    "\n",
    "\n",
    "\n",
    "\n",
    "#Fitting the curve\n",
    "def func(x,a,b,b0,c0,b1,c1):\n",
    "    return a*((p.pmf(0,b)*n.pdf(x,b0,c0**2))+(p.pmf(1,b)*n.pdf(x,b0+b1,(c0**2)+(c1**2)))+(p.pmf(2,b)*n.pdf(x,b0+2*b1,(c0**2)+2*(c1**2))))\n",
    "\n",
    "#x=np.linspace(-9e5,3.6e6,100)\n",
    "#guesses=[10,3000000,2.5e6,3e5,1.2e6,6.36e5]\n",
    "#popt, pcov=curve_fit(func,x,y_values,p0=guesses)\n",
    "#print popt\n",
    "#print pcov\n",
    "#plt.plot(x,func(x,popt[0],popt[1],popt[2],popt[3],popt[4],popt[5]),label=\"Best fit\", color='k')\n",
    "\n",
    "\n",
    "\n",
    "def neg_ln_likelihood_poisson(a_pars, a_bin_centers, a_counts):\n",
    "    scale, mean, std = a_pars\n",
    "    a_predicted_means = func(scale, mean, std, a_bin_centers)\n",
    "    return -np.sum( a_counts*np.log(a_predicted_means) - a_predicted_means\n",
    "                   - (a_counts*np.log(a_counts) - a_counts) )\n",
    "\n",
    "results = scipy.optimize.minimize(neg_ln_likelihood_poisson, args=(a_pmt_bin_centers, a_counts))\n",
    "\n",
    "print 'Best fit parameters: %.2f, %.2f, %.2f %.2f %.2f %.2f' % (results.x[0], results.x[1], results.x[2], results.x[3], results.x[4], results.x[5])\n",
    "plt.legend()\n",
    "plt.show()"
   ]
  },
  {
   "cell_type": "code",
   "execution_count": null,
   "metadata": {
    "collapsed": true
   },
   "outputs": [],
   "source": []
  },
  {
   "cell_type": "code",
   "execution_count": null,
   "metadata": {
    "collapsed": true
   },
   "outputs": [],
   "source": []
  }
 ],
 "metadata": {
  "kernelspec": {
   "display_name": "Python 2",
   "language": "python",
   "name": "python2"
  },
  "language_info": {
   "codemirror_mode": {
    "name": "ipython",
    "version": 2
   },
   "file_extension": ".py",
   "mimetype": "text/x-python",
   "name": "python",
   "nbconvert_exporter": "python",
   "pygments_lexer": "ipython2",
   "version": "2.7.13"
  }
 },
 "nbformat": 4,
 "nbformat_minor": 2
}
